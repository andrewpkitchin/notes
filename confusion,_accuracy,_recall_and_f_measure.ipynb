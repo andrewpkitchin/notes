{
  "nbformat": 4,
  "nbformat_minor": 0,
  "metadata": {
    "colab": {
      "provenance": [],
      "authorship_tag": "ABX9TyNtH2SCTIe4XcCNHM+eCQ4N"
    },
    "kernelspec": {
      "name": "python3",
      "display_name": "Python 3"
    },
    "language_info": {
      "name": "python"
    }
  },
  "cells": [
    {
      "cell_type": "code",
      "execution_count": 19,
      "metadata": {
        "id": "klfgQXkkpUNt"
      },
      "outputs": [],
      "source": [
        "# true positive, false negative, false positive, true negative\n",
        "\n",
        "def confusion(tp, fn, fp, tn, beta):\n",
        "  precision = tp/(tp+fp)\n",
        "  recall = tp/(tp+fn)\n",
        "  accuracy = (tp+tn)/(tp+fp+tn+fn)\n",
        "  # Use ** for exponentiation in Python\n",
        "  f_measure = ((beta**2+1)*precision*recall)/(precision*beta**2+recall)\n",
        "\n",
        "  print(\"precision:\", precision, \"recall:\", recall, \"accuracy:\", accuracy, \"f_measure:\", f_measure)"
      ]
    },
    {
      "cell_type": "code",
      "source": [
        "# life sentence model\n",
        "\n",
        "suspects = 100\n",
        "\n",
        "guilty = 10\n",
        "\n",
        "innocent = 90\n",
        "\n",
        "# model which catches all the guilty people, but sentence twice as many as it should.\n",
        "\n",
        "# balanced\n",
        "\n",
        "confusion(9, 1, 10, 80, 1)\n",
        "\n",
        "# favour recall\n",
        "\n",
        "confusion(9, 1, 10, 80, 2)\n",
        "\n",
        "# favour precision\n",
        "\n",
        "confusion(9, 1, 10, 80, 0.5)"
      ],
      "metadata": {
        "colab": {
          "base_uri": "https://localhost:8080/"
        },
        "id": "-ZadQQpUrnLF",
        "outputId": "a49d76f3-4028-4a05-dc06-03c3375bbcdf"
      },
      "execution_count": 20,
      "outputs": [
        {
          "output_type": "stream",
          "name": "stdout",
          "text": [
            "precision: 0.47368421052631576 recall: 0.9 accuracy: 0.89 f_measure: 0.6206896551724138\n",
            "precision: 0.47368421052631576 recall: 0.9 accuracy: 0.89 f_measure: 0.7627118644067795\n",
            "precision: 0.47368421052631576 recall: 0.9 accuracy: 0.89 f_measure: 0.5232558139534883\n"
          ]
        }
      ]
    },
    {
      "cell_type": "markdown",
      "source": [
        "It's more important not to convict the innocent, so Beta should be small, thus favouring precision."
      ],
      "metadata": {
        "id": "-wRYHHYPt5pr"
      }
    },
    {
      "cell_type": "code",
      "source": [
        "# cancer screening model\n",
        "\n",
        "people = 100\n",
        "\n",
        "has_cancer = 10\n",
        "\n",
        "no_cancer = 90\n",
        "\n",
        "# balanced\n",
        "\n",
        "confusion(9, 1, 10, 80, 1)\n",
        "\n",
        "# favour recall\n",
        "\n",
        "confusion(9, 1, 10, 80, 2)\n",
        "\n",
        "# favour precision\n",
        "\n",
        "confusion(9, 1, 10, 80, 0.5)"
      ],
      "metadata": {
        "colab": {
          "base_uri": "https://localhost:8080/"
        },
        "id": "mOcSs6Fks45A",
        "outputId": "ba4ff63f-1bc9-4162-aec1-247f422a3557"
      },
      "execution_count": 21,
      "outputs": [
        {
          "output_type": "stream",
          "name": "stdout",
          "text": [
            "precision: 0.47368421052631576 recall: 0.9 accuracy: 0.89 f_measure: 0.6206896551724138\n",
            "precision: 0.47368421052631576 recall: 0.9 accuracy: 0.89 f_measure: 0.7627118644067795\n",
            "precision: 0.47368421052631576 recall: 0.9 accuracy: 0.89 f_measure: 0.5232558139534883\n"
          ]
        }
      ]
    },
    {
      "cell_type": "markdown",
      "source": [
        "It’s more important to catch every case, so beta should be big to favour recall."
      ],
      "metadata": {
        "id": "EgoOmBUDw144"
      }
    }
  ]
}